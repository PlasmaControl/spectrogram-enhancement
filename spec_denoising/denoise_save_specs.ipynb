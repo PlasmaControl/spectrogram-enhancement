{
 "cells": [
  {
   "cell_type": "code",
   "execution_count": 1,
   "metadata": {},
   "outputs": [],
   "source": [
    "import matplotlib.pyplot as plt\n",
    "import matplotlib.gridspec as gridspec\n",
    "# get_ipython().run_line_magic('matplotlib', 'inline')\n",
    "import numpy as np\n",
    "import pandas as pd\n",
    "import pickle\n",
    "import scipy.signal\n",
    "import patchify\n",
    "import glob\n",
    "import cv2\n",
    "from skimage.exposure import rescale_intensity\n",
    "import argparse\n",
    "from sklearn.cluster import KMeans\n",
    "from itertools import groupby\n",
    "from skimage import color, data, restoration\n",
    "import h5py\n",
    "import random\n",
    "from tqdm import tqdm\n",
    "import os\n",
    "import time"
   ]
  },
  {
   "cell_type": "code",
   "execution_count": 2,
   "metadata": {},
   "outputs": [],
   "source": [
    "fs = 500000\n",
    "spec_params={\n",
    "    'nperseg': 512, # default 1024\n",
    "    'noverlap': 256, # default: nperseg / 4\n",
    "    'fs': fs, # raw signal sample rate is 4MHz\n",
    "    'window': 'hamm',\n",
    "    'scaling': 'density', # {'density', 'spectrum'}\n",
    "    'detrend': 'linear', # {'linear', 'constant', False}\n",
    "    'eps': 1e-11}\n",
    "\n",
    "data_path = \"/scratch/gpfs/aonelson/ml_database/ECE_data/\"\n",
    "flist = glob.glob(data_path+\"*.pkl\")\n",
    "result_path = \"frames/\""
   ]
  },
  {
   "cell_type": "code",
   "execution_count": 4,
   "metadata": {},
   "outputs": [],
   "source": [
    "def specgr (fname,ecen,spec_params,cut_shot=2):\n",
    "    ece_data = pickle.load(open(fname,'rb'))\n",
    "    ece_num = '\\\\tecef%.2i' % (ecen)\n",
    "    sig_in = ece_data[ece_num][:np.int_(cut_shot*spec_params['fs'])]\n",
    "    f, t, Sxx = scipy.signal.spectrogram(sig_in, nperseg=spec_params['nperseg'], noverlap=spec_params['noverlap'],fs=spec_params['fs'], window=spec_params['window'],scaling=spec_params['scaling'], detrend=spec_params['detrend'])\n",
    "    Sxx = np.log(Sxx + spec_params['eps'])\n",
    "    Sxx=(Sxx-np.min(Sxx))/(np.max(Sxx)-np.min(Sxx))\n",
    "    Sxx = Sxx[:-1,:];f=f[:-1]\n",
    "    return Sxx,f,t\n",
    "\n",
    "def norm(data):\n",
    "    mn = data.mean()\n",
    "    std = data.std()\n",
    "    return((data-mn)/std)\n",
    "\n",
    "def rescale(data):\n",
    "    return (data-data.min())/(data.max()-data.min())\n",
    "\n",
    "def quantfilt(src,thr=0.9):\n",
    "    filt = np.quantile(src,thr,axis=0)\n",
    "    out = np.where(src<filt,0,src)\n",
    "    return out\n",
    "\n",
    "# gaussian filtering\n",
    "def gaussblr(src,filt=(31, 3)):\n",
    "    src = (rescale(src)*255).astype('uint8')\n",
    "    out = cv2.GaussianBlur(src,filt,0)\n",
    "    return rescale(out)\n",
    "\n",
    "# mean filtering\n",
    "def meansub(src):\n",
    "    mn = np.mean(src,axis=1)[:,np.newaxis]\n",
    "    out = np.absolute(src - mn)\n",
    "    return rescale(out)\n",
    "\n",
    "# morphological filtering\n",
    "def morph(src):\n",
    "    src = (rescale(src)*255).astype('uint8')\n",
    "    \n",
    "    se1 = cv2.getStructuringElement(cv2.MORPH_RECT, (4,4))\n",
    "    se2 = cv2.getStructuringElement(cv2.MORPH_RECT, (3,1))\n",
    "    mask = cv2.morphologyEx(src, cv2.MORPH_CLOSE, se1)\n",
    "    mask = cv2.morphologyEx(mask, cv2.MORPH_OPEN, se2)\n",
    "        \n",
    "    return rescale(mask)"
   ]
  },
  {
   "cell_type": "code",
   "execution_count": 27,
   "metadata": {},
   "outputs": [
    {
     "name": "stderr",
     "output_type": "stream",
     "text": [
      "100%|██████████| 5/5 [00:51<00:00, 10.28s/it]\n"
     ]
    }
   ],
   "source": [
    "# randomly picks 100 pkl files and adds original and processed spectrograms to separate lists\n",
    "\n",
    "num_samples = 5\n",
    "random_sample = random.sample(flist, num_samples)\n",
    "thr = 0.9\n",
    "\n",
    "out_file = h5py.File('/scratch/gpfs/ar0535/spectrogram_data.hdf5', 'a')\n",
    "\n",
    "for fname in tqdm(flist[0:5]):\n",
    "    shotn = fname[fname.rfind('_')+1:fname.rfind('.')]\n",
    "\n",
    "    for chn in range(20):\n",
    "        try:\n",
    "            s,f,t = specgr(fname,chn+1,spec_params,2)\n",
    "            \n",
    "            \n",
    "            # image processing pipeline\n",
    "            out_quant= quantfilt(s,thr)\n",
    "            out_gauss=np.empty(s.shape)\n",
    "            out_mean=np.empty(s.shape)\n",
    "            out_morph = np.empty(s.shape)\n",
    "            out_final = np.empty(s.shape)\n",
    "            \n",
    "            out_gauss =  gaussblr(out_quant,(31, 3))\n",
    "            out_mean = meansub(out_gauss)    \n",
    "            out_morph = morph(out_mean)\n",
    "            out_final = meansub(out_morph)\n",
    "            \n",
    "            grp = out_file.create_group('ece_'+shotn+'/chn_'+str(chn+1))\n",
    "            grp.create_dataset('spec', data=s)\n",
    "            grp.create_dataset('f', data=f)\n",
    "            grp.create_dataset('t', data=t)\n",
    "            grp.create_dataset('pipeline_out', data=out_final)\n",
    "            \n",
    "        except pickle.UnpicklingError as e:\n",
    "            continue\n",
    "        except Exception as e:\n",
    "            print(traceback.format_exc(e))\n",
    "            continue"
   ]
  },
  {
   "cell_type": "code",
   "execution_count": null,
   "metadata": {},
   "outputs": [],
   "source": []
  },
  {
   "cell_type": "code",
   "execution_count": 29,
   "metadata": {},
   "outputs": [
    {
     "name": "stdout",
     "output_type": "stream",
     "text": [
      "ece_146079\n",
      "ece_152826\n",
      "ece_158522\n",
      "ece_163174\n",
      "ece_170663\n"
     ]
    }
   ],
   "source": [
    "for name in out_file:\n",
    "    print(name)"
   ]
  },
  {
   "cell_type": "code",
   "execution_count": 44,
   "metadata": {},
   "outputs": [
    {
     "name": "stdout",
     "output_type": "stream",
     "text": [
      "/scratch/gpfs/aonelson/ml_database/ECE_data/ece_170663.pkl\n",
      "/scratch/gpfs/aonelson/ml_database/ECE_data/ece_152826.pkl\n",
      "/scratch/gpfs/aonelson/ml_database/ECE_data/ece_163174.pkl\n",
      "/scratch/gpfs/aonelson/ml_database/ECE_data/ece_146079.pkl\n",
      "/scratch/gpfs/aonelson/ml_database/ECE_data/ece_158522.pkl\n",
      "/scratch/gpfs/aonelson/ml_database/ECE_data/ece_163181.pkl\n",
      "/scratch/gpfs/aonelson/ml_database/ECE_data/ece_134510.pkl\n",
      "/scratch/gpfs/aonelson/ml_database/ECE_data/ece_170728.pkl\n",
      "/scratch/gpfs/aonelson/ml_database/ECE_data/ece_132705.pkl\n",
      "/scratch/gpfs/aonelson/ml_database/ECE_data/ece_147654.pkl\n",
      "/scratch/gpfs/aonelson/ml_database/ECE_data/ece_178640.pkl\n",
      "/scratch/gpfs/aonelson/ml_database/ECE_data/ece_154125.pkl\n",
      "/scratch/gpfs/aonelson/ml_database/ECE_data/ece_175960.pkl\n",
      "/scratch/gpfs/aonelson/ml_database/ECE_data/ece_170669.pkl\n",
      "/scratch/gpfs/aonelson/ml_database/ECE_data/ece_138388.pkl\n",
      "/scratch/gpfs/aonelson/ml_database/ECE_data/ece_157743.pkl\n",
      "/scratch/gpfs/aonelson/ml_database/ECE_data/ece_141555.pkl\n",
      "/scratch/gpfs/aonelson/ml_database/ECE_data/ece_145178.pkl\n",
      "/scratch/gpfs/aonelson/ml_database/ECE_data/ece_175983.pkl\n",
      "/scratch/gpfs/aonelson/ml_database/ECE_data/ece_144321.pkl\n",
      "/scratch/gpfs/aonelson/ml_database/ECE_data/ece_153498.pkl\n",
      "/scratch/gpfs/aonelson/ml_database/ECE_data/ece_140185.pkl\n",
      "/scratch/gpfs/aonelson/ml_database/ECE_data/ece_157752.pkl\n",
      "/scratch/gpfs/aonelson/ml_database/ECE_data/ece_152827.pkl\n",
      "/scratch/gpfs/aonelson/ml_database/ECE_data/ece_144338.pkl\n",
      "/scratch/gpfs/aonelson/ml_database/ECE_data/ece_169116.pkl\n",
      "/scratch/gpfs/aonelson/ml_database/ECE_data/ece_141540.pkl\n",
      "/scratch/gpfs/aonelson/ml_database/ECE_data/ece_153065.pkl\n",
      "/scratch/gpfs/aonelson/ml_database/ECE_data/ece_144247.pkl\n",
      "/scratch/gpfs/aonelson/ml_database/ECE_data/ece_165745.pkl\n"
     ]
    }
   ],
   "source": [
    "for fname in flist[0:30]:\n",
    "    print(fname)"
   ]
  },
  {
   "cell_type": "code",
   "execution_count": null,
   "metadata": {},
   "outputs": [],
   "source": []
  }
 ],
 "metadata": {
  "kernelspec": {
   "display_name": "Python 3 (ipykernel)",
   "language": "python",
   "name": "python3"
  },
  "language_info": {
   "codemirror_mode": {
    "name": "ipython",
    "version": 3
   },
   "file_extension": ".py",
   "mimetype": "text/x-python",
   "name": "python",
   "nbconvert_exporter": "python",
   "pygments_lexer": "ipython3",
   "version": "3.7.13"
  }
 },
 "nbformat": 4,
 "nbformat_minor": 4
}
